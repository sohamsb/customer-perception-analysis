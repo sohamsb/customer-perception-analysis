{
 "cells": [
  {
   "cell_type": "markdown",
   "id": "09c82ffc-87fe-4bc8-9fe6-5c17e1acc6fa",
   "metadata": {},
   "source": [
    "## Team Members-"
   ]
  },
  {
   "cell_type": "markdown",
   "id": "24ce944b-0a9b-4cf5-9403-30cbcd1a00c3",
   "metadata": {},
   "source": [
    "- Soham Siddhant Bidyadhar (sb67347)\n",
    "- Agnitra Das (ad55985)\n",
    "- Sarah Lee (cl45274)\n",
    "- Jyoti Kumari (jk52725)\n",
    "- Saaket Joshi (sj778)\n",
    "- Rohan Giri (rg52539)"
   ]
  },
  {
   "cell_type": "markdown",
   "id": "3322eb3e-0510-4779-9ed2-71d2049a888b",
   "metadata": {},
   "source": [
    "### Website-\n",
    "https://www.airlinequality.com/airline-reviews/air-india/page/1/?sortby=post_date%3ADesc&pagesize=100"
   ]
  },
  {
   "cell_type": "code",
   "execution_count": 28,
   "id": "ea65e397-05ad-4823-b3b3-d10ca25fbb5f",
   "metadata": {},
   "outputs": [],
   "source": [
    "import pandas as pd\n",
    "from selenium import webdriver\n",
    "from selenium.webdriver.chrome.service import Service\n",
    "from webdriver_manager.chrome import ChromeDriverManager\n",
    "from selenium.webdriver.common.by import By\n",
    "import time \n",
    "service = Service(ChromeDriverManager().install())\n",
    "chrome_options = webdriver.ChromeOptions()\n",
    "driver = webdriver.Chrome(service=service, options=chrome_options)"
   ]
  },
  {
   "cell_type": "code",
   "execution_count": 29,
   "id": "9dd7a1be-d709-441a-abde-47cfe319cd73",
   "metadata": {},
   "outputs": [],
   "source": [
    "# website = \"https://www.airlinequality.com/airline-reviews/air-india/page/1/?sortby=post_date%3ADesc&pagesize=100\"\n",
    "# https://www.airlinequality.com/airline-reviews/air-india/page/2/?sortby=post_date%3ADesc&pagesize=100\n",
    "# driver.get(website)\n",
    "\n",
    "\n",
    "product_reviews = []\n",
    "user_ratings = []\n",
    "dates = []\n",
    "\n",
    "for j in range(1,15):\n",
    "\n",
    "    website = \"https://www.airlinequality.com/airline-reviews/air-india/page/\"+str(j)+\"/?sortby=post_date%3ADesc&pagesize=100\"\n",
    "    driver.get(website)\n",
    "    # time.sleep(3)\n",
    "    rating_elements = driver.find_elements(by=By.XPATH, value='//article[@itemprop=\"review\"]/div[1]')\n",
    "    for i in rating_elements:\n",
    "        user_ratings.append(i.text)\n",
    "    \n",
    "    review_elements = driver.find_elements(by=By.XPATH, value='//div[@itemprop=\"reviewBody\"]')\n",
    "    for i in review_elements:\n",
    "        product_reviews.append(i.text)\n",
    "\n",
    "    date_elements = driver.find_elements(by=By.XPATH, value='//h3/time[@itemprop=\"datePublished\"]')\n",
    "    for i in date_elements:\n",
    "        dates.append(i.text)\n",
    "\n",
    "    \n",
    "    # driver.find_element(by=By.XPATH, value='//div[@class=\"col-content\"]/article/ul/li[9]/a').click()\n",
    "    # driver.quit()\n",
    "\n",
    "\n",
    "driver.quit()\n",
    "\n"
   ]
  },
  {
   "cell_type": "code",
   "execution_count": 35,
   "id": "9483ee80-c7a7-4b2e-9dbf-ef82e702f9ae",
   "metadata": {},
   "outputs": [
    {
     "data": {
      "text/html": [
       "<div>\n",
       "<style scoped>\n",
       "    .dataframe tbody tr th:only-of-type {\n",
       "        vertical-align: middle;\n",
       "    }\n",
       "\n",
       "    .dataframe tbody tr th {\n",
       "        vertical-align: top;\n",
       "    }\n",
       "\n",
       "    .dataframe thead th {\n",
       "        text-align: right;\n",
       "    }\n",
       "</style>\n",
       "<table border=\"1\" class=\"dataframe\">\n",
       "  <thead>\n",
       "    <tr style=\"text-align: right;\">\n",
       "      <th></th>\n",
       "      <th>date</th>\n",
       "      <th>product_review</th>\n",
       "      <th>user_rating</th>\n",
       "    </tr>\n",
       "  </thead>\n",
       "  <tbody>\n",
       "    <tr>\n",
       "      <th>0</th>\n",
       "      <td>30th September 2024</td>\n",
       "      <td>✅ Trip Verified | Air India staff at Pune does...</td>\n",
       "      <td>1/10</td>\n",
       "    </tr>\n",
       "    <tr>\n",
       "      <th>1</th>\n",
       "      <td>26th September 2024</td>\n",
       "      <td>✅ Trip Verified | It seems that on the early m...</td>\n",
       "      <td>8/10</td>\n",
       "    </tr>\n",
       "    <tr>\n",
       "      <th>2</th>\n",
       "      <td>25th September 2024</td>\n",
       "      <td>✅ Trip Verified | I flew from Sydney to Delhi ...</td>\n",
       "      <td>1/10</td>\n",
       "    </tr>\n",
       "    <tr>\n",
       "      <th>3</th>\n",
       "      <td>24th September 2024</td>\n",
       "      <td>✅ Trip Verified |   Had a flight on 31 August ...</td>\n",
       "      <td>1/10</td>\n",
       "    </tr>\n",
       "    <tr>\n",
       "      <th>4</th>\n",
       "      <td>23rd September 2024</td>\n",
       "      <td>Not Verified | The worst experience when I dec...</td>\n",
       "      <td>1/10</td>\n",
       "    </tr>\n",
       "  </tbody>\n",
       "</table>\n",
       "</div>"
      ],
      "text/plain": [
       "                  date                                     product_review  \\\n",
       "0  30th September 2024  ✅ Trip Verified | Air India staff at Pune does...   \n",
       "1  26th September 2024  ✅ Trip Verified | It seems that on the early m...   \n",
       "2  25th September 2024  ✅ Trip Verified | I flew from Sydney to Delhi ...   \n",
       "3  24th September 2024  ✅ Trip Verified |   Had a flight on 31 August ...   \n",
       "4  23rd September 2024  Not Verified | The worst experience when I dec...   \n",
       "\n",
       "  user_rating  \n",
       "0        1/10  \n",
       "1        8/10  \n",
       "2        1/10  \n",
       "3        1/10  \n",
       "4        1/10  "
      ]
     },
     "execution_count": 35,
     "metadata": {},
     "output_type": "execute_result"
    }
   ],
   "source": [
    "df = pd.DataFrame({'date' : dates, 'product_review': product_reviews, 'user_rating': user_ratings})\n",
    "df.head()"
   ]
  },
  {
   "cell_type": "code",
   "execution_count": 39,
   "id": "b6dc68af-f661-494a-8b4f-1c6101dee401",
   "metadata": {},
   "outputs": [],
   "source": [
    "df.to_csv(\"Air India Scraped Agnitra.csv\",index=None)"
   ]
  }
 ],
 "metadata": {
  "kernelspec": {
   "display_name": "Python 3 (ipykernel)",
   "language": "python",
   "name": "python3"
  },
  "language_info": {
   "codemirror_mode": {
    "name": "ipython",
    "version": 3
   },
   "file_extension": ".py",
   "mimetype": "text/x-python",
   "name": "python",
   "nbconvert_exporter": "python",
   "pygments_lexer": "ipython3",
   "version": "3.12.4"
  }
 },
 "nbformat": 4,
 "nbformat_minor": 5
}
